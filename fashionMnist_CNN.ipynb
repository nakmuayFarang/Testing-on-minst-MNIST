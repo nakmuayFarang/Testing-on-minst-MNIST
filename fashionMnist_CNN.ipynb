{
 "cells": [
  {
   "cell_type": "code",
   "execution_count": 1,
   "metadata": {},
   "outputs": [
    {
     "name": "stderr",
     "output_type": "stream",
     "text": [
      "Using TensorFlow backend.\n"
     ]
    }
   ],
   "source": [
    "import tensorboard\n",
    "import keras\n",
    "from keras.datasets import fashion_mnist\n",
    "data = fashion_mnist.load_data()\n",
    "from keras.utils import to_categorical"
   ]
  },
  {
   "cell_type": "code",
   "execution_count": 2,
   "metadata": {},
   "outputs": [],
   "source": [
    "(xtrain,ytrain),(xtest,ytest)= data"
   ]
  },
  {
   "cell_type": "code",
   "execution_count": 3,
   "metadata": {},
   "outputs": [],
   "source": [
    "xtrain2 = xtrain.reshape(60000,28,28,1)\n",
    "xtrain2=xtrain2/255.0\n",
    "ytrain2=to_categorical(ytrain)"
   ]
  },
  {
   "cell_type": "code",
   "execution_count": 4,
   "metadata": {},
   "outputs": [],
   "source": [
    "from keras.models import Sequential"
   ]
  },
  {
   "cell_type": "code",
   "execution_count": 5,
   "metadata": {},
   "outputs": [],
   "source": [
    "from keras.layers import Conv2D, Dropout, MaxPool2D, Dense, Flatten\n",
    "from keras.losses import categorical_crossentropy\n",
    "from keras.callbacks import TensorBoard"
   ]
  },
  {
   "cell_type": "code",
   "execution_count": 6,
   "metadata": {},
   "outputs": [],
   "source": [
    "#Création du modele\n",
    "model= Sequential()\n",
    "model.add( Conv2D( filters=32, kernel_size=(5,5),activation='relu',input_shape= (28,28,1) )  )\n",
    "model.add( MaxPool2D(pool_size=(2,2)) )\n",
    "model.add( Dropout(rate=0.25) )\n",
    "model.add( Conv2D(filters=32,activation='relu',kernel_size=(5,5)) )\n",
    "model.add( MaxPool2D(pool_size=(2,2)) )\n",
    "model.add( Dropout(rate=0.25) )\n",
    "model.add( Flatten() )\n",
    "model.add( Dropout(rate=0.25) )\n",
    "model.add( Dense( activation='softmax',units= 10 ) )"
   ]
  },
  {
   "cell_type": "code",
   "execution_count": 7,
   "metadata": {},
   "outputs": [
    {
     "name": "stdout",
     "output_type": "stream",
     "text": [
      "_________________________________________________________________\n",
      "Layer (type)                 Output Shape              Param #   \n",
      "=================================================================\n",
      "conv2d_1 (Conv2D)            (None, 24, 24, 32)        832       \n",
      "_________________________________________________________________\n",
      "max_pooling2d_1 (MaxPooling2 (None, 12, 12, 32)        0         \n",
      "_________________________________________________________________\n",
      "dropout_1 (Dropout)          (None, 12, 12, 32)        0         \n",
      "_________________________________________________________________\n",
      "conv2d_2 (Conv2D)            (None, 8, 8, 32)          25632     \n",
      "_________________________________________________________________\n",
      "max_pooling2d_2 (MaxPooling2 (None, 4, 4, 32)          0         \n",
      "_________________________________________________________________\n",
      "dropout_2 (Dropout)          (None, 4, 4, 32)          0         \n",
      "_________________________________________________________________\n",
      "flatten_1 (Flatten)          (None, 512)               0         \n",
      "_________________________________________________________________\n",
      "dropout_3 (Dropout)          (None, 512)               0         \n",
      "_________________________________________________________________\n",
      "dense_1 (Dense)              (None, 10)                5130      \n",
      "=================================================================\n",
      "Total params: 31,594\n",
      "Trainable params: 31,594\n",
      "Non-trainable params: 0\n",
      "_________________________________________________________________\n"
     ]
    }
   ],
   "source": [
    "model.compile( loss= categorical_crossentropy, optimizer='rmsprop', metrics=[\"accuracy\"]  )\n",
    "tbd= TensorBoard(\"D:/Log/\")\n",
    "model.summary()"
   ]
  },
  {
   "cell_type": "code",
   "execution_count": 8,
   "metadata": {},
   "outputs": [
    {
     "name": "stdout",
     "output_type": "stream",
     "text": [
      "Train on 48000 samples, validate on 12000 samples\n",
      "Epoch 1/14\n",
      "48000/48000 [==============================] - 19s 387us/step - loss: 0.7825 - acc: 0.7138 - val_loss: 0.5040 - val_acc: 0.8190\n",
      "Epoch 2/14\n",
      "48000/48000 [==============================] - 8s 163us/step - loss: 0.4997 - acc: 0.8201 - val_loss: 0.4009 - val_acc: 0.8588\n",
      "Epoch 3/14\n",
      "48000/48000 [==============================] - 8s 165us/step - loss: 0.4337 - acc: 0.8452 - val_loss: 0.3691 - val_acc: 0.8684\n",
      "Epoch 4/14\n",
      "48000/48000 [==============================] - 8s 158us/step - loss: 0.4010 - acc: 0.8575 - val_loss: 0.3475 - val_acc: 0.8774\n",
      "Epoch 5/14\n",
      "48000/48000 [==============================] - 8s 164us/step - loss: 0.3800 - acc: 0.8630 - val_loss: 0.3449 - val_acc: 0.8797\n",
      "Epoch 6/14\n",
      "48000/48000 [==============================] - 8s 169us/step - loss: 0.3628 - acc: 0.8679 - val_loss: 0.3209 - val_acc: 0.8863\n",
      "Epoch 7/14\n",
      "48000/48000 [==============================] - 9s 177us/step - loss: 0.3552 - acc: 0.8723 - val_loss: 0.3195 - val_acc: 0.8881\n",
      "Epoch 8/14\n",
      "48000/48000 [==============================] - 9s 179us/step - loss: 0.3477 - acc: 0.8747 - val_loss: 0.3162 - val_acc: 0.8858\n",
      "Epoch 9/14\n",
      "48000/48000 [==============================] - 9s 179us/step - loss: 0.3392 - acc: 0.8777 - val_loss: 0.3088 - val_acc: 0.8897\n",
      "Epoch 10/14\n",
      "48000/48000 [==============================] - 8s 174us/step - loss: 0.3291 - acc: 0.8818 - val_loss: 0.2937 - val_acc: 0.8936\n",
      "Epoch 11/14\n",
      "48000/48000 [==============================] - 9s 178us/step - loss: 0.3239 - acc: 0.8829 - val_loss: 0.2995 - val_acc: 0.8930\n",
      "Epoch 12/14\n",
      "48000/48000 [==============================] - 9s 178us/step - loss: 0.3198 - acc: 0.8842 - val_loss: 0.2938 - val_acc: 0.8985\n",
      "Epoch 13/14\n",
      "48000/48000 [==============================] - 9s 179us/step - loss: 0.3141 - acc: 0.8857 - val_loss: 0.2917 - val_acc: 0.8951\n",
      "Epoch 14/14\n",
      "48000/48000 [==============================] - 8s 171us/step - loss: 0.3125 - acc: 0.8879 - val_loss: 0.2849 - val_acc: 0.8990\n"
     ]
    },
    {
     "data": {
      "text/plain": [
       "<keras.callbacks.History at 0x1f6e8c3a6d8>"
      ]
     },
     "execution_count": 8,
     "metadata": {},
     "output_type": "execute_result"
    }
   ],
   "source": [
    "model.fit( xtrain2, ytrain2, epochs=14, batch_size=128 ,validation_split=0.2, callbacks=[tbd] )"
   ]
  },
  {
   "cell_type": "code",
   "execution_count": 9,
   "metadata": {},
   "outputs": [],
   "source": [
    "#reshape test data\n",
    "xtest2 = xtest.reshape(10000,28,28,1)/255\n",
    "ytest2 = to_categorical(ytest)"
   ]
  },
  {
   "cell_type": "code",
   "execution_count": 10,
   "metadata": {},
   "outputs": [],
   "source": [
    "yHat = model.predict(xtest2)"
   ]
  },
  {
   "cell_type": "code",
   "execution_count": 12,
   "metadata": {},
   "outputs": [],
   "source": [
    "from keras.metrics import categorical_accuracy\n",
    "acc = categorical_accuracy(ytest2,yHat)"
   ]
  },
  {
   "cell_type": "code",
   "execution_count": null,
   "metadata": {},
   "outputs": [],
   "source": []
  }
 ],
 "metadata": {
  "kernelspec": {
   "display_name": "Python 3",
   "language": "python",
   "name": "python3"
  },
  "language_info": {
   "codemirror_mode": {
    "name": "ipython",
    "version": 3
   },
   "file_extension": ".py",
   "mimetype": "text/x-python",
   "name": "python",
   "nbconvert_exporter": "python",
   "pygments_lexer": "ipython3",
   "version": "3.6.8"
  }
 },
 "nbformat": 4,
 "nbformat_minor": 2
}
