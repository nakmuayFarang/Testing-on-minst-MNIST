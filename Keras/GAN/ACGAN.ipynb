{
 "cells": [
  {
   "cell_type": "markdown",
   "metadata": {},
   "source": [
    "# ACGAN"
   ]
  },
  {
   "cell_type": "code",
   "execution_count": 1,
   "metadata": {},
   "outputs": [],
   "source": [
    "import os\n",
    "import tensorflow\n",
    "from tensorflow.keras.models import Model, Sequential\n",
    "from tensorflow.keras.optimizers import Adam, RMSprop\n",
    "import numpy as np\n",
    "from tensorflow.keras.utils import to_categorical\n",
    "from tensorflow.keras.layers import Input, Dense,Reshape, Conv2D, Dropout\n",
    "from tensorflow.keras.layers import BatchNormalization,Activation,Embedding,multiply\n",
    "from tensorflow.keras.layers import Conv2DTranspose,Flatten, LeakyReLU, concatenate\n",
    "from tensorflow.keras.datasets import mnist"
   ]
  },
  {
   "cell_type": "code",
   "execution_count": 2,
   "metadata": {},
   "outputs": [],
   "source": [
    "from tensorflow.keras.datasets import mnist\n",
    "(xtr,ytr),_ = mnist.load_data()\n",
    "xtr = xtr.reshape((-1,28,28,1)).astype('float32')/255\n",
    "ytr = to_categorical(ytr)"
   ]
  },
  {
   "cell_type": "code",
   "execution_count": 3,
   "metadata": {},
   "outputs": [
    {
     "name": "stdout",
     "output_type": "stream",
     "text": [
      "Latent size: 100: Label Shape: 2\n"
     ]
    }
   ],
   "source": [
    "genSize = 100#Generator latent input size\n",
    "num_classes = np.unique(ytr).shape[0]#Number of label\n",
    "print(\"Latent size: {}: Label Shape: {}\".format(genSize,num_classes))"
   ]
  },
  {
   "cell_type": "code",
   "execution_count": 4,
   "metadata": {},
   "outputs": [
    {
     "name": "stdout",
     "output_type": "stream",
     "text": [
      "[(None, 100), (None, 10)] (None, 28, 28, 1)\n",
      "Model: \"generator\"\n",
      "__________________________________________________________________________________________________\n",
      "Layer (type)                    Output Shape         Param #     Connected to                     \n",
      "==================================================================================================\n",
      "input_1 (InputLayer)            [(None, 100)]        0                                            \n",
      "__________________________________________________________________________________________________\n",
      "input_2 (InputLayer)            [(None, 10)]         0                                            \n",
      "__________________________________________________________________________________________________\n",
      "concatenate (Concatenate)       (None, 110)          0           input_1[0][0]                    \n",
      "                                                                 input_2[0][0]                    \n",
      "__________________________________________________________________________________________________\n",
      "dense (Dense)                   (None, 6272)         696192      concatenate[0][0]                \n",
      "__________________________________________________________________________________________________\n",
      "reshape (Reshape)               (None, 7, 7, 128)    0           dense[0][0]                      \n",
      "__________________________________________________________________________________________________\n",
      "batch_normalization (BatchNorma (None, 7, 7, 128)    512         reshape[0][0]                    \n",
      "__________________________________________________________________________________________________\n",
      "activation (Activation)         (None, 7, 7, 128)    0           batch_normalization[0][0]        \n",
      "__________________________________________________________________________________________________\n",
      "conv2d_transpose (Conv2DTranspo (None, 14, 14, 128)  409728      activation[0][0]                 \n",
      "__________________________________________________________________________________________________\n",
      "batch_normalization_1 (BatchNor (None, 14, 14, 128)  512         conv2d_transpose[0][0]           \n",
      "__________________________________________________________________________________________________\n",
      "activation_1 (Activation)       (None, 14, 14, 128)  0           batch_normalization_1[0][0]      \n",
      "__________________________________________________________________________________________________\n",
      "conv2d_transpose_1 (Conv2DTrans (None, 28, 28, 64)   204864      activation_1[0][0]               \n",
      "__________________________________________________________________________________________________\n",
      "batch_normalization_2 (BatchNor (None, 28, 28, 64)   256         conv2d_transpose_1[0][0]         \n",
      "__________________________________________________________________________________________________\n",
      "activation_2 (Activation)       (None, 28, 28, 64)   0           batch_normalization_2[0][0]      \n",
      "__________________________________________________________________________________________________\n",
      "conv2d_transpose_2 (Conv2DTrans (None, 28, 28, 32)   51232       activation_2[0][0]               \n",
      "__________________________________________________________________________________________________\n",
      "batch_normalization_3 (BatchNor (None, 28, 28, 32)   128         conv2d_transpose_2[0][0]         \n",
      "__________________________________________________________________________________________________\n",
      "activation_3 (Activation)       (None, 28, 28, 32)   0           batch_normalization_3[0][0]      \n",
      "__________________________________________________________________________________________________\n",
      "conv2d_transpose_3 (Conv2DTrans (None, 28, 28, 1)    801         activation_3[0][0]               \n",
      "__________________________________________________________________________________________________\n",
      "activation_4 (Activation)       (None, 28, 28, 1)    0           conv2d_transpose_3[0][0]         \n",
      "==================================================================================================\n",
      "Total params: 1,364,225\n",
      "Trainable params: 1,363,521\n",
      "Non-trainable params: 704\n",
      "__________________________________________________________________________________________________\n"
     ]
    }
   ],
   "source": [
    "#Generator\n",
    "\n",
    "def build_generator():\n",
    "    # network parameters\n",
    "    kernel_size = 5\n",
    "    layer_filters = [128, 64, 32, 1]\n",
    "    inputs = Input(shape=(100,))\n",
    "    labels = Input(shape=(10,))\n",
    "\n",
    "    inputs = [inputs, labels]\n",
    "    x = concatenate(inputs, axis=1)\n",
    "    x = Dense(7 * 7 * layer_filters[0])(x)\n",
    "    x = Reshape((7, 7, layer_filters[0]))(x)\n",
    "    for filters in layer_filters:\n",
    "        # first two convolution layers use strides = 2\n",
    "        # the last two use strides = 1\n",
    "        if filters > layer_filters[-2]:\n",
    "            strides = 2\n",
    "        else:\n",
    "            strides = 1\n",
    "        x = BatchNormalization()(x)\n",
    "        x = Activation('relu')(x)\n",
    "        x = Conv2DTranspose(filters=filters,kernel_size=kernel_size, strides=strides, padding='same')(x)\n",
    "    x = Activation('sigmoid')(x)\n",
    "    return Model(inputs, x, name='generator')\n",
    "\n",
    "generator = build_generator()\n",
    "print(generator.input_shape,generator.output_shape)\n",
    "generator.summary()"
   ]
  },
  {
   "cell_type": "code",
   "execution_count": 5,
   "metadata": {},
   "outputs": [
    {
     "name": "stdout",
     "output_type": "stream",
     "text": [
      "(None, 28, 28, 1) [(None, 1), (None, 10)]\n",
      "Model: \"discriminator\"\n",
      "__________________________________________________________________________________________________\n",
      "Layer (type)                    Output Shape         Param #     Connected to                     \n",
      "==================================================================================================\n",
      "input_3 (InputLayer)            [(None, 28, 28, 1)]  0                                            \n",
      "__________________________________________________________________________________________________\n",
      "leaky_re_lu (LeakyReLU)         (None, 28, 28, 1)    0           input_3[0][0]                    \n",
      "__________________________________________________________________________________________________\n",
      "conv2d (Conv2D)                 (None, 14, 14, 32)   832         leaky_re_lu[0][0]                \n",
      "__________________________________________________________________________________________________\n",
      "leaky_re_lu_1 (LeakyReLU)       (None, 14, 14, 32)   0           conv2d[0][0]                     \n",
      "__________________________________________________________________________________________________\n",
      "conv2d_1 (Conv2D)               (None, 7, 7, 64)     51264       leaky_re_lu_1[0][0]              \n",
      "__________________________________________________________________________________________________\n",
      "leaky_re_lu_2 (LeakyReLU)       (None, 7, 7, 64)     0           conv2d_1[0][0]                   \n",
      "__________________________________________________________________________________________________\n",
      "conv2d_2 (Conv2D)               (None, 4, 4, 128)    204928      leaky_re_lu_2[0][0]              \n",
      "__________________________________________________________________________________________________\n",
      "leaky_re_lu_3 (LeakyReLU)       (None, 4, 4, 128)    0           conv2d_2[0][0]                   \n",
      "__________________________________________________________________________________________________\n",
      "conv2d_3 (Conv2D)               (None, 4, 4, 256)    819456      leaky_re_lu_3[0][0]              \n",
      "__________________________________________________________________________________________________\n",
      "flatten (Flatten)               (None, 4096)         0           conv2d_3[0][0]                   \n",
      "__________________________________________________________________________________________________\n",
      "dense_2 (Dense)                 (None, 128)          524416      flatten[0][0]                    \n",
      "__________________________________________________________________________________________________\n",
      "dense_1 (Dense)                 (None, 1)            4097        flatten[0][0]                    \n",
      "__________________________________________________________________________________________________\n",
      "dense_3 (Dense)                 (None, 10)           1290        dense_2[0][0]                    \n",
      "__________________________________________________________________________________________________\n",
      "RealFake (Activation)           (None, 1)            0           dense_1[0][0]                    \n",
      "__________________________________________________________________________________________________\n",
      "label (Activation)              (None, 10)           0           dense_3[0][0]                    \n",
      "==================================================================================================\n",
      "Total params: 1,606,283\n",
      "Trainable params: 1,606,283\n",
      "Non-trainable params: 0\n",
      "__________________________________________________________________________________________________\n"
     ]
    }
   ],
   "source": [
    "#Discriminator\n",
    "\n",
    "\n",
    "def build_discriminator():\n",
    "    kernel_size = 5\n",
    "    layer_filters = [32, 64, 128, 256]\n",
    "    \n",
    "    inputs = Input(shape=(28,28,1))\n",
    "\n",
    "    x = inputs\n",
    "    for filters in layer_filters:\n",
    "        # first 3 convolution layers use strides = 2\n",
    "        # last one uses strides = 1\n",
    "        if filters == layer_filters[-1]:\n",
    "            strides = 1\n",
    "        else:\n",
    "            strides = 2\n",
    "        x = LeakyReLU(alpha=0.2)(x)\n",
    "        x = Conv2D(filters=filters,kernel_size=kernel_size,strides=strides,padding='same')(x)\n",
    "\n",
    "    x = Flatten()(x)\n",
    "    outputs = Dense(1)(x)\n",
    "    outputs = Activation('sigmoid',name='RealFake')(outputs)\n",
    "    layer = Dense(layer_filters[-2])(x)\n",
    "    labels = Dense(10)(layer)\n",
    "    labels = Activation('softmax', name='label')(labels)\n",
    "    outputs = [outputs, labels]\n",
    "    return Model(inputs, outputs, name='discriminator')\n",
    "\n",
    "\n",
    "discriminator = build_discriminator()\n",
    "print(discriminator.input_shape,discriminator.output_shape)\n",
    "discriminator.summary()"
   ]
  },
  {
   "cell_type": "code",
   "execution_count": 6,
   "metadata": {
    "scrolled": true
   },
   "outputs": [],
   "source": [
    "from gan2 import ACGAN"
   ]
  },
  {
   "cell_type": "code",
   "execution_count": 7,
   "metadata": {
    "scrolled": true
   },
   "outputs": [],
   "source": [
    "gan = ACGAN(generator=generator,discriminator=discriminator,DiscrOptimizer=Adam(learning_rate=0.0002, beta_1=0.5),GanOptimizer=Adam(learning_rate=0.0002, beta_1=0.5))"
   ]
  },
  {
   "cell_type": "code",
   "execution_count": 8,
   "metadata": {},
   "outputs": [
    {
     "data": {
      "text/plain": [
       "array([0, 1, 2, 3, 4, 5, 6, 7, 8, 9], dtype=int64)"
      ]
     },
     "execution_count": 8,
     "metadata": {},
     "output_type": "execute_result"
    }
   ],
   "source": [
    "gan.generateBatchEval(16)\n",
    "while np.unique(np.argmax(gan.evaluationInpt[1],axis=1)).shape != (10,):\n",
    "    gan.generateBatchEval(16)\n",
    "np.unique(np.argmax(gan.evaluationInpt[1],axis=1))\n",
    "#Check if all of the 10 digits have been selected at least once"
   ]
  },
  {
   "cell_type": "code",
   "execution_count": 9,
   "metadata": {},
   "outputs": [],
   "source": [
    "import matplotlib.pyplot as plt\n",
    "\n",
    "def viewMinst(mtr,ep=None,save=True):\n",
    "    \"\"\"view minst\"\"\"\n",
    "    path = \"D:/Project/DeepLearning/GAN/ACGAN/output/Epoch_{}\".format(ep)\n",
    "    title = \"Label = {}\"#\"Epoch : {}\".format(ep)    \n",
    "    mtr2 = np.clip(mtr[0] * 255,0,255).astype('uint8')\n",
    "    lbl = np.argmax(mtr[1])   \n",
    "    plt.imshow(mtr2.reshape(28,28), cmap='gray')\n",
    "    plt.title('Label: {}'.format(lbl))\n",
    "    if not os.path.isdir(path):\n",
    "        os.mkdir(path) \n",
    "    if save == True and not ep is None:\n",
    "        i = 0\n",
    "        while os.path.exists(path + '/Epoch{}_{}.jpg'.format(ep,i)):\n",
    "            i+=1\n",
    "        plt.savefig(path + '/Epoch{}_{}.jpg'.format(ep,i))"
   ]
  },
  {
   "cell_type": "code",
   "execution_count": 10,
   "metadata": {
    "scrolled": true
   },
   "outputs": [
    {
     "data": {
      "image/png": "[encoded data removed]",
      "text/plain": [
       "<Figure size 432x288 with 1 Axes>"
      ]
     },
     "metadata": {
      "needs_background": "light"
     },
     "output_type": "display_data"
    }
   ],
   "source": [
    "gan.GenerateOutputs(xtest=gan.evaluationInpt ,batchSize=16,viewFunction=viewMinst,returnArray=False,ep=0)"
   ]
  },
  {
   "cell_type": "code",
   "execution_count": 11,
   "metadata": {
    "scrolled": true
   },
   "outputs": [
    {
     "data": {
      "image/png": "[encoded data removed]",
      "text/plain": [
       "<Figure size 432x288 with 1 Axes>"
      ]
     },
     "metadata": {
      "needs_background": "light"
     },
     "output_type": "display_data"
    }
   ],
   "source": [
    "viewMinst([xtr[1], ytr[1]  ],ep=None,save=False)"
   ]
  },
  {
   "cell_type": "code",
   "execution_count": 12,
   "metadata": {},
   "outputs": [
    {
     "name": "stdout",
     "output_type": "stream",
     "text": [
      "Epoch 1/30\n",
      "117/117 [==============================] - 100s 857ms/step\n",
      "Discrimiator: (loss,0.4831579923629761)(RealFake_loss,0.0010683926520869136)(label_loss,0.4820896089076996)(RealFake_accuracy,1.0)(label_accuracy,0.9619140625)\n",
      " \t Adversial: (loss,0.005274565890431404)(RealFake_loss,0.0003419756831135601)(label_loss,0.004932590294629335)(RealFake_accuracy,1.0)(label_accuracy,0.998046875)\n",
      "Epoch 2/30\n",
      "117/117 [==============================] - 105s 898ms/step\n",
      "Discrimiator: (loss,0.126554936170578)(RealFake_loss,0.0016096321633085608)(label_loss,0.12494529783725739)(RealFake_accuracy,1.0)(label_accuracy,0.9814453125)\n",
      " \t Adversial: (loss,0.0004093512543477118)(RealFake_loss,0.0003824133309535682)(label_loss,2.693791248020716e-05)(RealFake_accuracy,1.0)(label_accuracy,1.0)\n",
      "Epoch 3/30\n",
      "117/117 [==============================] - 107s 916ms/step\n",
      "Discrimiator: (loss,0.6781196594238281)(RealFake_loss,0.5507630109786987)(label_loss,0.1273566633462906)(RealFake_accuracy,0.728515625)(label_accuracy,0.9775390625)\n",
      " \t Adversial: (loss,0.4649601876735687)(RealFake_loss,0.46331098675727844)(label_loss,0.0016491999849677086)(RealFake_accuracy,0.888671875)(label_accuracy,1.0)\n",
      "Epoch 4/30\n",
      "117/117 [==============================] - 108s 927ms/step\n",
      "Discrimiator: (loss,0.5748142004013062)(RealFake_loss,0.45499587059020996)(label_loss,0.11981834471225739)(RealFake_accuracy,0.80859375)(label_accuracy,0.9814453125)\n",
      " \t Adversial: (loss,0.13238151371479034)(RealFake_loss,0.11224205046892166)(label_loss,0.02013946883380413)(RealFake_accuracy,1.0)(label_accuracy,0.994140625)\n",
      "Epoch 5/30\n",
      "117/117 [==============================] - 109s 927ms/step\n",
      "Discrimiator: (loss,0.7094711065292358)(RealFake_loss,0.6055285930633545)(label_loss,0.10394252836704254)(RealFake_accuracy,0.65625)(label_accuracy,0.98046875)\n",
      " \t Adversial: (loss,1.0414150953292847)(RealFake_loss,1.0300602912902832)(label_loss,0.01135485339909792)(RealFake_accuracy,0.22265625)(label_accuracy,0.998046875)\n",
      "Epoch 6/30\n",
      "117/117 [==============================] - 112s 954ms/step\n",
      "Discrimiator: (loss,0.7278831601142883)(RealFake_loss,0.6341326236724854)(label_loss,0.09375053644180298)(RealFake_accuracy,0.6103515625)(label_accuracy,0.9775390625)\n",
      " \t Adversial: (loss,0.9149474501609802)(RealFake_loss,0.9059174060821533)(label_loss,0.009030015207827091)(RealFake_accuracy,0.3125)(label_accuracy,0.99609375)\n",
      "Epoch 7/30\n",
      "117/117 [==============================] - 110s 943ms/step\n",
      "Discrimiator: (loss,0.7764101028442383)(RealFake_loss,0.6954904794692993)(label_loss,0.08091960847377777)(RealFake_accuracy,0.5537109375)(label_accuracy,0.9833984375)\n",
      " \t Adversial: (loss,0.8560757637023926)(RealFake_loss,0.8416500091552734)(label_loss,0.014425763860344887)(RealFake_accuracy,0.384765625)(label_accuracy,0.99609375)\n",
      "Epoch 8/30\n",
      "117/117 [==============================] - 111s 947ms/step\n",
      "Discrimiator: (loss,0.8360902070999146)(RealFake_loss,0.7435354590415955)(label_loss,0.09255476295948029)(RealFake_accuracy,0.447265625)(label_accuracy,0.98046875)\n",
      " \t Adversial: (loss,0.7257730960845947)(RealFake_loss,0.6923558115959167)(label_loss,0.03341727331280708)(RealFake_accuracy,0.53515625)(label_accuracy,0.9921875)\n",
      "Epoch 9/30\n",
      "117/117 [==============================] - 112s 953ms/step\n",
      "Discrimiator: (loss,0.7174763083457947)(RealFake_loss,0.6445884108543396)(label_loss,0.07288789749145508)(RealFake_accuracy,0.650390625)(label_accuracy,0.98828125)\n",
      " \t Adversial: (loss,0.7742772102355957)(RealFake_loss,0.7629804015159607)(label_loss,0.011296803131699562)(RealFake_accuracy,0.451171875)(label_accuracy,1.0)\n",
      "Epoch 10/30\n",
      "117/117 [==============================] - 111s 949ms/step\n",
      "Discrimiator: (loss,0.7700730562210083)(RealFake_loss,0.6977060437202454)(label_loss,0.07236701250076294)(RealFake_accuracy,0.5205078125)(label_accuracy,0.9873046875)\n",
      " \t Adversial: (loss,0.802695631980896)(RealFake_loss,0.7966665029525757)(label_loss,0.006029140204191208)(RealFake_accuracy,0.3984375)(label_accuracy,1.0)\n",
      "Epoch 11/30\n",
      "117/117 [==============================] - 111s 949ms/step\n",
      "Discrimiator: (loss,0.7735538482666016)(RealFake_loss,0.7026030421257019)(label_loss,0.07095078378915787)(RealFake_accuracy,0.5283203125)(label_accuracy,0.9853515625)\n",
      " \t Adversial: (loss,0.7804996371269226)(RealFake_loss,0.7755076885223389)(label_loss,0.0049919444136321545)(RealFake_accuracy,0.37890625)(label_accuracy,1.0)\n",
      "Epoch 12/30\n",
      "117/117 [==============================] - 112s 957ms/step\n",
      "Discrimiator: (loss,0.7732778787612915)(RealFake_loss,0.7084956765174866)(label_loss,0.06478223204612732)(RealFake_accuracy,0.5380859375)(label_accuracy,0.9892578125)\n",
      " \t Adversial: (loss,0.7788659930229187)(RealFake_loss,0.7741365432739258)(label_loss,0.004729443695396185)(RealFake_accuracy,0.39453125)(label_accuracy,1.0)\n",
      "Epoch 13/30\n",
      "117/117 [==============================] - 110s 941ms/step\n",
      "Discrimiator: (loss,0.7363582253456116)(RealFake_loss,0.6713225841522217)(label_loss,0.0650356337428093)(RealFake_accuracy,0.6044921875)(label_accuracy,0.9873046875)\n",
      " \t Adversial: (loss,0.7625434398651123)(RealFake_loss,0.7538683414459229)(label_loss,0.008675086311995983)(RealFake_accuracy,0.4609375)(label_accuracy,0.99609375)\n",
      "Epoch 14/30\n",
      "117/117 [==============================] - 109s 932ms/step\n",
      "Discrimiator: (loss,0.7317713499069214)(RealFake_loss,0.6756577491760254)(label_loss,0.05611361935734749)(RealFake_accuracy,0.5908203125)(label_accuracy,0.9912109375)\n",
      " \t Adversial: (loss,0.7267524600028992)(RealFake_loss,0.7224563360214233)(label_loss,0.004296101164072752)(RealFake_accuracy,0.466796875)(label_accuracy,1.0)\n",
      "Epoch 15/30\n",
      "117/117 [==============================] - 110s 942ms/step\n",
      "Discrimiator: (loss,0.7555249929428101)(RealFake_loss,0.7016246318817139)(label_loss,0.053900346159935)(RealFake_accuracy,0.5068359375)(label_accuracy,0.9912109375)\n",
      " \t Adversial: (loss,0.8613690137863159)(RealFake_loss,0.8572198152542114)(label_loss,0.004149182699620724)(RealFake_accuracy,0.23828125)(label_accuracy,1.0)\n",
      "Epoch 16/30\n",
      "117/117 [==============================] - 110s 940ms/step\n",
      "Discrimiator: (loss,0.7476591467857361)(RealFake_loss,0.6911790370941162)(label_loss,0.056480102241039276)(RealFake_accuracy,0.53515625)(label_accuracy,0.98828125)\n",
      " \t Adversial: (loss,0.65975421667099)(RealFake_loss,0.6560395956039429)(label_loss,0.003714607562869787)(RealFake_accuracy,0.6484375)(label_accuracy,1.0)\n",
      "Epoch 17/30\n",
      "117/117 [==============================] - 110s 936ms/step\n",
      "Discrimiator: (loss,0.7448456883430481)(RealFake_loss,0.6926877498626709)(label_loss,0.0521579310297966)(RealFake_accuracy,0.51171875)(label_accuracy,0.9912109375)\n",
      " \t Adversial: (loss,0.6241377592086792)(RealFake_loss,0.6211153268814087)(label_loss,0.003022413235157728)(RealFake_accuracy,0.716796875)(label_accuracy,0.998046875)\n",
      "Epoch 18/30\n",
      "117/117 [==============================] - 110s 940ms/step\n",
      "Discrimiator: (loss,0.7602255344390869)(RealFake_loss,0.7075392603874207)(label_loss,0.052686259150505066)(RealFake_accuracy,0.4951171875)(label_accuracy,0.9912109375)\n",
      " \t Adversial: (loss,0.6267456412315369)(RealFake_loss,0.6236662268638611)(label_loss,0.003079407149925828)(RealFake_accuracy,0.736328125)(label_accuracy,1.0)\n",
      "Epoch 19/30\n",
      "117/117 [==============================] - 109s 933ms/step\n",
      "Discrimiator: (loss,0.7398466467857361)(RealFake_loss,0.691450834274292)(label_loss,0.0483957976102829)(RealFake_accuracy,0.5380859375)(label_accuracy,0.9921875)\n",
      " \t Adversial: (loss,0.7034170031547546)(RealFake_loss,0.6961431503295898)(label_loss,0.007273882161825895)(RealFake_accuracy,0.498046875)(label_accuracy,0.998046875)\n",
      "Epoch 20/30\n",
      "117/117 [==============================] - 109s 930ms/step\n",
      "Discrimiator: (loss,0.7294328212738037)(RealFake_loss,0.6819109320640564)(label_loss,0.047521915286779404)(RealFake_accuracy,0.587890625)(label_accuracy,0.9912109375)\n",
      " \t Adversial: (loss,0.6615710258483887)(RealFake_loss,0.6573054790496826)(label_loss,0.004265530966222286)(RealFake_accuracy,0.6171875)(label_accuracy,1.0)\n",
      "Epoch 21/30\n",
      "117/117 [==============================] - 109s 928ms/step\n",
      "Discrimiator: (loss,0.7283157110214233)(RealFake_loss,0.6846771836280823)(label_loss,0.043638553470373154)(RealFake_accuracy,0.5419921875)(label_accuracy,0.9921875)\n",
      " \t Adversial: (loss,0.6757071614265442)(RealFake_loss,0.6742201447486877)(label_loss,0.001487035653553903)(RealFake_accuracy,0.587890625)(label_accuracy,1.0)\n"
     ]
    },
    {
     "name": "stdout",
     "output_type": "stream",
     "text": [
      "Epoch 22/30\n",
      "117/117 [==============================] - 109s 931ms/step\n",
      "Discrimiator: (loss,0.736047625541687)(RealFake_loss,0.694732666015625)(label_loss,0.04131495952606201)(RealFake_accuracy,0.5244140625)(label_accuracy,0.9931640625)\n",
      " \t Adversial: (loss,0.6364108920097351)(RealFake_loss,0.6344609260559082)(label_loss,0.0019499677000567317)(RealFake_accuracy,0.71875)(label_accuracy,1.0)\n",
      "Epoch 23/30\n",
      "117/117 [==============================] - 108s 924ms/step\n",
      "Discrimiator: (loss,0.7322542071342468)(RealFake_loss,0.6972651481628418)(label_loss,0.03498908132314682)(RealFake_accuracy,0.50390625)(label_accuracy,0.994140625)\n",
      " \t Adversial: (loss,0.6407589912414551)(RealFake_loss,0.6353049874305725)(label_loss,0.005454020109027624)(RealFake_accuracy,0.6875)(label_accuracy,1.0)\n",
      "Epoch 24/30\n",
      "117/117 [==============================] - 108s 923ms/step\n",
      "Discrimiator: (loss,0.715584397315979)(RealFake_loss,0.6789386868476868)(label_loss,0.03664570674300194)(RealFake_accuracy,0.5830078125)(label_accuracy,0.994140625)\n",
      " \t Adversial: (loss,0.6653667688369751)(RealFake_loss,0.6634606719017029)(label_loss,0.0019061253406107426)(RealFake_accuracy,0.619140625)(label_accuracy,1.0)\n",
      "Epoch 25/30\n",
      "117/117 [==============================] - 111s 946ms/step\n",
      "Discrimiator: (loss,0.7302504777908325)(RealFake_loss,0.6978146433830261)(label_loss,0.0324358269572258)(RealFake_accuracy,0.533203125)(label_accuracy,0.994140625)\n",
      " \t Adversial: (loss,0.6623222827911377)(RealFake_loss,0.6612955331802368)(label_loss,0.0010267415782436728)(RealFake_accuracy,0.6328125)(label_accuracy,1.0)\n",
      "Epoch 26/30\n",
      "117/117 [==============================] - 109s 933ms/step\n",
      "Discrimiator: (loss,0.7179030776023865)(RealFake_loss,0.6851946711540222)(label_loss,0.03270842880010605)(RealFake_accuracy,0.580078125)(label_accuracy,0.9931640625)\n",
      " \t Adversial: (loss,0.7157321572303772)(RealFake_loss,0.7151075601577759)(label_loss,0.0006246247212402523)(RealFake_accuracy,0.44921875)(label_accuracy,1.0)\n",
      "Epoch 27/30\n",
      "117/117 [==============================] - 107s 913ms/step\n",
      "Discrimiator: (loss,0.7215846180915833)(RealFake_loss,0.6930736899375916)(label_loss,0.028510956093668938)(RealFake_accuracy,0.5244140625)(label_accuracy,0.994140625)\n",
      " \t Adversial: (loss,0.7235267758369446)(RealFake_loss,0.722392201423645)(label_loss,0.0011346022365614772)(RealFake_accuracy,0.458984375)(label_accuracy,1.0)\n",
      "Epoch 28/30\n",
      "117/117 [==============================] - 108s 920ms/step\n",
      "Discrimiator: (loss,0.7261502742767334)(RealFake_loss,0.7010458707809448)(label_loss,0.025104403495788574)(RealFake_accuracy,0.53515625)(label_accuracy,0.994140625)\n",
      " \t Adversial: (loss,0.7118098139762878)(RealFake_loss,0.7095159292221069)(label_loss,0.00229391036555171)(RealFake_accuracy,0.443359375)(label_accuracy,0.998046875)\n",
      "Epoch 29/30\n",
      "117/117 [==============================] - 107s 915ms/step\n",
      "Discrimiator: (loss,0.710289478302002)(RealFake_loss,0.6883814930915833)(label_loss,0.021907979622483253)(RealFake_accuracy,0.5576171875)(label_accuracy,0.994140625)\n",
      " \t Adversial: (loss,0.7106084227561951)(RealFake_loss,0.7029425501823425)(label_loss,0.0076658641919493675)(RealFake_accuracy,0.482421875)(label_accuracy,0.998046875)\n",
      "Epoch 30/30\n",
      "117/117 [==============================] - 107s 914ms/step\n",
      "Discrimiator: (loss,0.713330090045929)(RealFake_loss,0.6896440982818604)(label_loss,0.023685963824391365)(RealFake_accuracy,0.5361328125)(label_accuracy,0.9931640625)\n",
      " \t Adversial: (loss,0.6450504064559937)(RealFake_loss,0.6417081952095032)(label_loss,0.003342227078974247)(RealFake_accuracy,0.693359375)(label_accuracy,0.998046875)\n"
     ]
    },
    {
     "data": {
      "image/png": "[encoded data removed]",
      "text/plain": [
       "<Figure size 432x288 with 1 Axes>"
      ]
     },
     "metadata": {
      "needs_background": "light"
     },
     "output_type": "display_data"
    }
   ],
   "source": [
    "gan.train([xtr,ytr],batch_size=1024,epoch=30,outputTr=viewMinst,evalStep=1,pathSave='D:/Project/DeepLearning/GAN/ACGAN/save/')"
   ]
  },
  {
   "cell_type": "code",
   "execution_count": 13,
   "metadata": {},
   "outputs": [
    {
     "data": {
      "image/png": "[encoded data removed]",
      "text/plain": [
       "<Figure size 432x288 with 1 Axes>"
      ]
     },
     "metadata": {
      "needs_background": "light"
     },
     "output_type": "display_data"
    }
   ],
   "source": [
    "gan.GenerateOutputs(batchSize=1,viewFunction=viewMinst,returnArray=False)"
   ]
  }
 ],
 "metadata": {
  "kernelspec": {
   "display_name": "Python 3",
   "language": "python",
   "name": "python3"
  },
  "language_info": {
   "codemirror_mode": {
    "name": "ipython",
    "version": 3
   },
   "file_extension": ".py",
   "mimetype": "text/x-python",
   "name": "python",
   "nbconvert_exporter": "python",
   "pygments_lexer": "ipython3",
   "version": "3.7.4"
  }
 },
 "nbformat": 4,
 "nbformat_minor": 2
}
