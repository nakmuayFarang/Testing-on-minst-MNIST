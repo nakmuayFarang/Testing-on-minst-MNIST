{
 "cells": [
  {
   "cell_type": "markdown",
   "metadata": {},
   "source": [
    "# Denoising auto encoder"
   ]
  },
  {
   "cell_type": "markdown",
   "metadata": {},
   "source": [
    "The aim of this script is to remove noise of picture"
   ]
  },
  {
   "cell_type": "code",
   "execution_count": 1,
   "metadata": {},
   "outputs": [
    {
     "name": "stderr",
     "output_type": "stream",
     "text": [
      "Using TensorFlow backend.\n"
     ]
    }
   ],
   "source": [
    "from keras.datasets import mnist\n",
    "import numpy as np\n",
    "from keras.utils import to_categorical\n",
    "from keras.backend import int_shape"
   ]
  },
  {
   "cell_type": "code",
   "execution_count": 2,
   "metadata": {},
   "outputs": [],
   "source": [
    "#load the data\n",
    "(ytrain,y1),(ytest,y2) = mnist.load_data()\n",
    "del y1, y2\n",
    "ytrain = ytrain.reshape((-1,28,28,1))/255\n",
    "ytest = ytest.reshape((-1,28,28,1))/255"
   ]
  },
  {
   "cell_type": "markdown",
   "metadata": {},
   "source": [
    "## Generate noisy vector"
   ]
  },
  {
   "cell_type": "code",
   "execution_count": 3,
   "metadata": {},
   "outputs": [],
   "source": [
    "#Add noise\n",
    "noiseTrain = np.random.normal(loc=0.5, scale=0.2, size=ytrain.shape)\n",
    "noiseTest = np.random.normal(loc=0.5, scale=0.2, size=ytest.shape)"
   ]
  },
  {
   "cell_type": "markdown",
   "metadata": {},
   "source": [
    "  $Noise \\sim \\mathcal{N}(0,1)$"
   ]
  },
  {
   "cell_type": "code",
   "execution_count": 4,
   "metadata": {},
   "outputs": [],
   "source": [
    "xtrain = np.clip(noiseTrain + ytrain, 0., 1.  )\n",
    "xtest = np.clip(noiseTest + ytest, 0., 1.  )"
   ]
  },
  {
   "cell_type": "code",
   "execution_count": 5,
   "metadata": {},
   "outputs": [],
   "source": [
    "import matplotlib.pyplot as plt\n",
    "def viewMinst(mtr,mtr2):\n",
    "    \"\"\"view minst\"\"\"\n",
    "    mtr3 = np.concatenate((mtr,mtr2),axis=1)\n",
    "    plt.imshow(mtr3.reshape(28,2*28), cmap='gray')\n",
    "    plt.show()"
   ]
  },
  {
   "cell_type": "code",
   "execution_count": 8,
   "metadata": {},
   "outputs": [
    {
     "data": {
      "image/png": "[encoded data removed]",
      "text/plain": [
       "<Figure size 432x288 with 1 Axes>"
      ]
     },
     "metadata": {
      "needs_background": "light"
     },
     "output_type": "display_data"
    }
   ],
   "source": [
    "viewMinst(xtrain[1],ytrain[1])"
   ]
  },
  {
   "cell_type": "markdown",
   "metadata": {},
   "source": [
    "## Model Creation"
   ]
  },
  {
   "cell_type": "code",
   "execution_count": 9,
   "metadata": {},
   "outputs": [],
   "source": [
    "from keras.layers import MaxPooling2D, Dense, Conv2D, Conv2DTranspose, Input, Flatten, Reshape\n",
    "from keras.models import Model\n",
    "from keras.callbacks import TensorBoard"
   ]
  },
  {
   "cell_type": "code",
   "execution_count": 10,
   "metadata": {},
   "outputs": [],
   "source": [
    "inp = Input(shape=(28,28,1), name='inp')\n",
    "\n",
    "x = inp\n",
    "\n",
    "#Encoder Part\n",
    "\n",
    "filters = [16,32,64]\n",
    "\n",
    "for f in filters :\n",
    "    x = Conv2D(kernel_size=3,filters=f,strides=1,padding='same')(x)\n",
    "\n",
    "shp = int_shape(x)\n",
    "x = Flatten()(x)\n",
    "\n",
    "x = Dense(16)(x)\n",
    "\n",
    "#Decoder Part\n",
    "\n",
    "x = Dense(shp[1]*shp[2]*shp[3])(x)\n",
    "\n",
    "x = Reshape((shp[1],shp[2],shp[3]))(x)\n",
    "\n",
    "for f in filters[::-1]:\n",
    "    x = Conv2DTranspose(kernel_size=3,strides=1,padding='same',filters=f)(x)\n",
    "\n",
    "\n",
    "out = Conv2DTranspose(kernel_size=3,strides=1,padding='same',filters=1)(x)\n",
    "denoiser = Model(inp,out, name='denoiser')\n"
   ]
  },
  {
   "cell_type": "code",
   "execution_count": 11,
   "metadata": {},
   "outputs": [
    {
     "name": "stdout",
     "output_type": "stream",
     "text": [
      "_________________________________________________________________\n",
      "Layer (type)                 Output Shape              Param #   \n",
      "=================================================================\n",
      "inp (InputLayer)             (None, 28, 28, 1)         0         \n",
      "_________________________________________________________________\n",
      "conv2d_1 (Conv2D)            (None, 28, 28, 16)        160       \n",
      "_________________________________________________________________\n",
      "conv2d_2 (Conv2D)            (None, 28, 28, 32)        4640      \n",
      "_________________________________________________________________\n",
      "conv2d_3 (Conv2D)            (None, 28, 28, 64)        18496     \n",
      "_________________________________________________________________\n",
      "flatten_1 (Flatten)          (None, 50176)             0         \n",
      "_________________________________________________________________\n",
      "dense_1 (Dense)              (None, 16)                802832    \n",
      "_________________________________________________________________\n",
      "dense_2 (Dense)              (None, 50176)             852992    \n",
      "_________________________________________________________________\n",
      "reshape_1 (Reshape)          (None, 28, 28, 64)        0         \n",
      "_________________________________________________________________\n",
      "conv2d_transpose_1 (Conv2DTr (None, 28, 28, 64)        36928     \n",
      "_________________________________________________________________\n",
      "conv2d_transpose_2 (Conv2DTr (None, 28, 28, 32)        18464     \n",
      "_________________________________________________________________\n",
      "conv2d_transpose_3 (Conv2DTr (None, 28, 28, 16)        4624      \n",
      "_________________________________________________________________\n",
      "conv2d_transpose_4 (Conv2DTr (None, 28, 28, 1)         145       \n",
      "=================================================================\n",
      "Total params: 1,739,281\n",
      "Trainable params: 1,739,281\n",
      "Non-trainable params: 0\n",
      "_________________________________________________________________\n"
     ]
    }
   ],
   "source": [
    "denoiser.summary()"
   ]
  },
  {
   "cell_type": "code",
   "execution_count": 12,
   "metadata": {},
   "outputs": [],
   "source": [
    "denoiser.compile(loss='mse', optimizer='adam',metrics=['accuracy'])\n",
    "tbd = TensorBoard('D:/')"
   ]
  },
  {
   "cell_type": "code",
   "execution_count": 14,
   "metadata": {},
   "outputs": [
    {
     "name": "stdout",
     "output_type": "stream",
     "text": [
      "Train on 60000 samples, validate on 10000 samples\n",
      "Epoch 1/10\n",
      "60000/60000 [==============================] - 31s 523us/step - loss: 0.0294 - acc: 0.8089 - val_loss: 0.0290 - val_acc: 0.8087\n",
      "Epoch 2/10\n",
      "60000/60000 [==============================] - 32s 540us/step - loss: 0.0294 - acc: 0.8089 - val_loss: 0.0289 - val_acc: 0.8085\n",
      "Epoch 3/10\n",
      "60000/60000 [==============================] - 32s 540us/step - loss: 0.0294 - acc: 0.8089 - val_loss: 0.0289 - val_acc: 0.8086\n",
      "Epoch 4/10\n",
      "60000/60000 [==============================] - 32s 542us/step - loss: 0.0294 - acc: 0.8089 - val_loss: 0.0289 - val_acc: 0.8081\n",
      "Epoch 5/10\n",
      "60000/60000 [==============================] - 33s 543us/step - loss: 0.0293 - acc: 0.8089 - val_loss: 0.0288 - val_acc: 0.8083\n",
      "Epoch 6/10\n",
      "60000/60000 [==============================] - 32s 540us/step - loss: 0.0293 - acc: 0.8089 - val_loss: 0.0289 - val_acc: 0.8079\n",
      "Epoch 7/10\n",
      "60000/60000 [==============================] - 32s 537us/step - loss: 0.0293 - acc: 0.8089 - val_loss: 0.0288 - val_acc: 0.8083\n",
      "Epoch 8/10\n",
      "60000/60000 [==============================] - 33s 542us/step - loss: 0.0293 - acc: 0.8089 - val_loss: 0.0288 - val_acc: 0.8083\n",
      "Epoch 9/10\n",
      "60000/60000 [==============================] - 33s 543us/step - loss: 0.0293 - acc: 0.8089 - val_loss: 0.0288 - val_acc: 0.8082\n",
      "Epoch 10/10\n",
      "60000/60000 [==============================] - 33s 543us/step - loss: 0.0293 - acc: 0.8089 - val_loss: 0.0289 - val_acc: 0.8076\n"
     ]
    },
    {
     "data": {
      "text/plain": [
       "<keras.callbacks.History at 0x2aac7023828>"
      ]
     },
     "execution_count": 14,
     "metadata": {},
     "output_type": "execute_result"
    }
   ],
   "source": [
    "denoiser.fit(xtrain,ytrain,validation_data=(xtest,ytest), callbacks=[tbd], epochs= 10, batch_size=128 )"
   ]
  },
  {
   "cell_type": "markdown",
   "metadata": {},
   "source": [
    "## Check denoised data"
   ]
  },
  {
   "cell_type": "code",
   "execution_count": 24,
   "metadata": {},
   "outputs": [],
   "source": [
    "def viewMinst2(mtr,mtr2,mtr3):\n",
    "    \"\"\"view minst\"\"\"\n",
    "    mtr3 = np.concatenate((mtr,mtr2,mtr3),axis=1)\n",
    "    plt.imshow(mtr3.reshape(28,3*28), cmap='gray')\n",
    "    plt.show()"
   ]
  },
  {
   "cell_type": "code",
   "execution_count": 30,
   "metadata": {},
   "outputs": [
    {
     "data": {
      "image/png": "[encoded data removed]",
      "text/plain": [
       "<Figure size 432x288 with 1 Axes>"
      ]
     },
     "metadata": {
      "needs_background": "light"
     },
     "output_type": "display_data"
    }
   ],
   "source": [
    "pred = denoiser.predict(xtest)\n",
    "viewMinst2(ytest[500],xtest[500],pred[500])"
   ]
  },
  {
   "cell_type": "code",
   "execution_count": null,
   "metadata": {},
   "outputs": [],
   "source": []
  }
 ],
 "metadata": {
  "kernelspec": {
   "display_name": "Python 3",
   "language": "python",
   "name": "python3"
  },
  "language_info": {
   "codemirror_mode": {
    "name": "ipython",
    "version": 3
   },
   "file_extension": ".py",
   "mimetype": "text/x-python",
   "name": "python",
   "nbconvert_exporter": "python",
   "pygments_lexer": "ipython3",
   "version": "3.6.8"
  }
 },
 "nbformat": 4,
 "nbformat_minor": 2
}
