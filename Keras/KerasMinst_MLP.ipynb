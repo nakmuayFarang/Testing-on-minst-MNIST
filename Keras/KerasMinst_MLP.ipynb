{
 "cells": [
  {
   "cell_type": "code",
   "execution_count": 1,
   "metadata": {},
   "outputs": [
    {
     "name": "stderr",
     "output_type": "stream",
     "text": [
      "Using TensorFlow backend.\n"
     ]
    }
   ],
   "source": [
    "import keras\n",
    "from keras.datasets import mnist\n",
    "from keras.layers import Dense, Activation, Dropout\n",
    "from keras.utils import to_categorical, plot_model\n",
    "from keras.callbacks import TensorBoard\n",
    "from keras.models import Sequential\n",
    "import numpy as np"
   ]
  },
  {
   "cell_type": "code",
   "execution_count": 2,
   "metadata": {},
   "outputs": [],
   "source": [
    "(xtrain, ytrain), (xtest, ytest) = mnist.load_data()"
   ]
  },
  {
   "cell_type": "code",
   "execution_count": 3,
   "metadata": {},
   "outputs": [
    {
     "data": {
      "text/plain": [
       "(60000, 28, 28)"
      ]
     },
     "execution_count": 3,
     "metadata": {},
     "output_type": "execute_result"
    }
   ],
   "source": [
    "xtrain.shape #Dimesnsion de l'ensemble de training (nb enregistrements, lxL de la matrice)"
   ]
  },
  {
   "cell_type": "code",
   "execution_count": 4,
   "metadata": {},
   "outputs": [
    {
     "data": {
      "text/plain": [
       "array([0, 1, 2, 3, 4, 5, 6, 7, 8, 9], dtype=uint8)"
      ]
     },
     "execution_count": 4,
     "metadata": {},
     "output_type": "execute_result"
    }
   ],
   "source": [
    "np.unique(ytrain)#Les nombre à classer (Solution)"
   ]
  },
  {
   "cell_type": "code",
   "execution_count": 5,
   "metadata": {},
   "outputs": [],
   "source": [
    "#Transformer en var categorielle les outputs\n",
    "ytrain = to_categorical(ytrain)\n",
    "ytest = to_categorical(ytest)"
   ]
  },
  {
   "cell_type": "code",
   "execution_count": 6,
   "metadata": {},
   "outputs": [],
   "source": [
    "#Reformatage des données pour avoir la matrice 28*28 sur une ligne. Onn ramène les données de sur 255 à sur 1\n",
    "xtrain = np.reshape(xtrain, [-1, 28*28 ]  )\n",
    "xtrain = xtrain.astype('float32') / 255\n",
    "\n",
    "xtest = np.reshape(xtrain, [-1, 28*28 ]  )\n",
    "xtest = xtest.astype('float32') / 255"
   ]
  },
  {
   "cell_type": "code",
   "execution_count": 7,
   "metadata": {},
   "outputs": [],
   "source": [
    "#Creation du modèle\n",
    "model = Sequential()\n",
    "model.add(Dense(256, input_dim=28*28  )  )\n",
    "model.add( Activation('relu') )\n",
    "model.add( Dropout(0.45) )\n",
    "model.add(Dense(10))\n",
    "model.add( Activation('softmax'))"
   ]
  },
  {
   "cell_type": "code",
   "execution_count": 8,
   "metadata": {},
   "outputs": [
    {
     "name": "stdout",
     "output_type": "stream",
     "text": [
      "_________________________________________________________________\n",
      "Layer (type)                 Output Shape              Param #   \n",
      "=================================================================\n",
      "dense_1 (Dense)              (None, 256)               200960    \n",
      "_________________________________________________________________\n",
      "activation_1 (Activation)    (None, 256)               0         \n",
      "_________________________________________________________________\n",
      "dropout_1 (Dropout)          (None, 256)               0         \n",
      "_________________________________________________________________\n",
      "dense_2 (Dense)              (None, 10)                2570      \n",
      "_________________________________________________________________\n",
      "activation_2 (Activation)    (None, 10)                0         \n",
      "=================================================================\n",
      "Total params: 203,530\n",
      "Trainable params: 203,530\n",
      "Non-trainable params: 0\n",
      "_________________________________________________________________\n"
     ]
    }
   ],
   "source": [
    "model.summary()"
   ]
  },
  {
   "cell_type": "code",
   "execution_count": null,
   "metadata": {},
   "outputs": [],
   "source": [
    "plot_model(model,to_file='mlp-mnist.png',show_shapes=True)"
   ]
  },
  {
   "cell_type": "code",
   "execution_count": 9,
   "metadata": {},
   "outputs": [],
   "source": [
    "#compilation du modele\n",
    "model.compile( loss='categorical_crossentropy', optimizer='adam', metrics=['accuracy']  )"
   ]
  },
  {
   "cell_type": "code",
   "execution_count": 10,
   "metadata": {},
   "outputs": [
    {
     "name": "stdout",
     "output_type": "stream",
     "text": [
      "Train on 48000 samples, validate on 12000 samples\n",
      "Epoch 1/20\n",
      "48000/48000 [==============================] - 3s 72us/step - loss: 0.4271 - acc: 0.8748 - val_loss: 0.1897 - val_acc: 0.9477\n",
      "Epoch 2/20\n",
      "48000/48000 [==============================] - 1s 27us/step - loss: 0.2082 - acc: 0.9391 - val_loss: 0.1416 - val_acc: 0.9600\n",
      "Epoch 3/20\n",
      "48000/48000 [==============================] - 1s 26us/step - loss: 0.1556 - acc: 0.9543 - val_loss: 0.1159 - val_acc: 0.9678\n",
      "Epoch 4/20\n",
      "48000/48000 [==============================] - 1s 26us/step - loss: 0.1300 - acc: 0.9613 - val_loss: 0.1023 - val_acc: 0.9717\n",
      "Epoch 5/20\n",
      "48000/48000 [==============================] - 1s 26us/step - loss: 0.1101 - acc: 0.9671 - val_loss: 0.0902 - val_acc: 0.9740\n",
      "Epoch 6/20\n",
      "48000/48000 [==============================] - 1s 26us/step - loss: 0.0985 - acc: 0.9707 - val_loss: 0.0895 - val_acc: 0.9759\n",
      "Epoch 7/20\n",
      "48000/48000 [==============================] - 1s 27us/step - loss: 0.0886 - acc: 0.9736 - val_loss: 0.0827 - val_acc: 0.9753\n",
      "Epoch 8/20\n",
      "48000/48000 [==============================] - 1s 26us/step - loss: 0.0811 - acc: 0.9757 - val_loss: 0.0811 - val_acc: 0.9767\n",
      "Epoch 9/20\n",
      "48000/48000 [==============================] - 1s 26us/step - loss: 0.0722 - acc: 0.9773 - val_loss: 0.0769 - val_acc: 0.9769\n",
      "Epoch 10/20\n",
      "48000/48000 [==============================] - 1s 26us/step - loss: 0.0681 - acc: 0.9790 - val_loss: 0.0792 - val_acc: 0.9758\n",
      "Epoch 11/20\n",
      "48000/48000 [==============================] - 1s 26us/step - loss: 0.0615 - acc: 0.9805 - val_loss: 0.0755 - val_acc: 0.9790\n",
      "Epoch 12/20\n",
      "48000/48000 [==============================] - 1s 26us/step - loss: 0.0574 - acc: 0.9819 - val_loss: 0.0729 - val_acc: 0.9788\n",
      "Epoch 13/20\n",
      "48000/48000 [==============================] - 1s 26us/step - loss: 0.0547 - acc: 0.9823 - val_loss: 0.0738 - val_acc: 0.9784\n",
      "Epoch 14/20\n",
      "48000/48000 [==============================] - 1s 27us/step - loss: 0.0541 - acc: 0.9828 - val_loss: 0.0695 - val_acc: 0.9794\n",
      "Epoch 15/20\n",
      "48000/48000 [==============================] - 1s 27us/step - loss: 0.0472 - acc: 0.9855 - val_loss: 0.0712 - val_acc: 0.9793\n",
      "Epoch 16/20\n",
      "48000/48000 [==============================] - 1s 26us/step - loss: 0.0469 - acc: 0.9847 - val_loss: 0.0734 - val_acc: 0.9793\n",
      "Epoch 17/20\n",
      "48000/48000 [==============================] - 1s 26us/step - loss: 0.0442 - acc: 0.9856 - val_loss: 0.0710 - val_acc: 0.9797\n",
      "Epoch 18/20\n",
      "48000/48000 [==============================] - 1s 27us/step - loss: 0.0411 - acc: 0.9865 - val_loss: 0.0750 - val_acc: 0.9797\n",
      "Epoch 19/20\n",
      "48000/48000 [==============================] - 1s 26us/step - loss: 0.0397 - acc: 0.9868 - val_loss: 0.0712 - val_acc: 0.9797\n",
      "Epoch 20/20\n",
      "48000/48000 [==============================] - 1s 26us/step - loss: 0.0381 - acc: 0.9873 - val_loss: 0.0689 - val_acc: 0.9812\n"
     ]
    },
    {
     "data": {
      "text/plain": [
       "<keras.callbacks.History at 0x19f50829dd8>"
      ]
     },
     "execution_count": 10,
     "metadata": {},
     "output_type": "execute_result"
    }
   ],
   "source": [
    "model.fit(xtrain,ytrain, epochs=20 , batch_size= 128 , validation_split=.2 )"
   ]
  }
 ],
 "metadata": {
  "kernelspec": {
   "display_name": "Python 3",
   "language": "python",
   "name": "python3"
  },
  "language_info": {
   "codemirror_mode": {
    "name": "ipython",
    "version": 3
   },
   "file_extension": ".py",
   "mimetype": "text/x-python",
   "name": "python",
   "nbconvert_exporter": "python",
   "pygments_lexer": "ipython3",
   "version": "3.6.8"
  }
 },
 "nbformat": 4,
 "nbformat_minor": 2
}
