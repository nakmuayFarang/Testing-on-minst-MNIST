{
 "cells": [
  {
   "cell_type": "code",
   "execution_count": 1,
   "metadata": {},
   "outputs": [
    {
     "name": "stderr",
     "output_type": "stream",
     "text": [
      "Using TensorFlow backend.\n"
     ]
    }
   ],
   "source": [
    "import numpy as np\n",
    "from keras.datasets import mnist\n",
    "from keras.layers import Dense, Activation, SimpleRNN\n",
    "from keras.utils import to_categorical, plot_model\n",
    "from keras.models import Sequential"
   ]
  },
  {
   "cell_type": "code",
   "execution_count": 2,
   "metadata": {},
   "outputs": [],
   "source": [
    "(xtrain, ytrain), (xtest, ytest) = mnist.load_data()"
   ]
  },
  {
   "cell_type": "code",
   "execution_count": 3,
   "metadata": {},
   "outputs": [],
   "source": [
    "ytrain = to_categorical(ytrain)\n",
    "ytest = to_categorical(ytest)\n",
    "xtrain = np.reshape(xtrain, [-1, 28,28 ]  )\n",
    "xtrain = xtrain.astype('float32') / 255\n",
    "\n",
    "xtest = np.reshape(xtrain, [-1, 28,28 ]  )\n",
    "xtest = xtest.astype('float32') / 255"
   ]
  },
  {
   "cell_type": "code",
   "execution_count": 4,
   "metadata": {},
   "outputs": [],
   "source": [
    "model = Sequential()\n",
    "model.add( SimpleRNN(units = 256, dropout = 0.2, input_shape = (28,28) ) )\n",
    "model.add( Dense(10) )\n",
    "model.add( Activation('softmax') )"
   ]
  },
  {
   "cell_type": "code",
   "execution_count": 5,
   "metadata": {},
   "outputs": [
    {
     "name": "stdout",
     "output_type": "stream",
     "text": [
      "_________________________________________________________________\n",
      "Layer (type)                 Output Shape              Param #   \n",
      "=================================================================\n",
      "simple_rnn_1 (SimpleRNN)     (None, 256)               72960     \n",
      "_________________________________________________________________\n",
      "dense_1 (Dense)              (None, 10)                2570      \n",
      "_________________________________________________________________\n",
      "activation_1 (Activation)    (None, 10)                0         \n",
      "=================================================================\n",
      "Total params: 75,530\n",
      "Trainable params: 75,530\n",
      "Non-trainable params: 0\n",
      "_________________________________________________________________\n"
     ]
    }
   ],
   "source": [
    "model.summary()"
   ]
  },
  {
   "cell_type": "code",
   "execution_count": null,
   "metadata": {},
   "outputs": [],
   "source": [
    "plot_model(model, to_file = 'rnn-mnist.png', show_shapes= True )"
   ]
  },
  {
   "cell_type": "code",
   "execution_count": 6,
   "metadata": {},
   "outputs": [],
   "source": [
    "model.compile( loss='categorical_crossentropy', optimizer='adam', metrics=['accuracy']  )"
   ]
  },
  {
   "cell_type": "code",
   "execution_count": 7,
   "metadata": {},
   "outputs": [
    {
     "name": "stdout",
     "output_type": "stream",
     "text": [
      "Train on 48000 samples, validate on 12000 samples\n",
      "Epoch 1/20\n",
      "48000/48000 [==============================] - 11s 222us/step - loss: 0.4649 - acc: 0.8557 - val_loss: 0.1955 - val_acc: 0.9430\n",
      "Epoch 2/20\n",
      "48000/48000 [==============================] - 8s 176us/step - loss: 0.2366 - acc: 0.9290 - val_loss: 0.1408 - val_acc: 0.9566\n",
      "Epoch 3/20\n",
      "48000/48000 [==============================] - 8s 175us/step - loss: 0.1950 - acc: 0.9408 - val_loss: 0.1168 - val_acc: 0.9652\n",
      "Epoch 4/20\n",
      "48000/48000 [==============================] - 9s 179us/step - loss: 0.1677 - acc: 0.9485 - val_loss: 0.1115 - val_acc: 0.9677\n",
      "Epoch 5/20\n",
      "48000/48000 [==============================] - 8s 177us/step - loss: 0.1588 - acc: 0.9524 - val_loss: 0.0998 - val_acc: 0.9707\n",
      "Epoch 6/20\n",
      "48000/48000 [==============================] - 10s 206us/step - loss: 0.1470 - acc: 0.9564 - val_loss: 0.0985 - val_acc: 0.9710\n",
      "Epoch 7/20\n",
      "48000/48000 [==============================] - 10s 208us/step - loss: 0.1404 - acc: 0.9579 - val_loss: 0.1291 - val_acc: 0.9628\n",
      "Epoch 8/20\n",
      "48000/48000 [==============================] - 10s 207us/step - loss: 0.1388 - acc: 0.9587 - val_loss: 0.1035 - val_acc: 0.9712\n",
      "Epoch 9/20\n",
      "48000/48000 [==============================] - 10s 209us/step - loss: 0.1290 - acc: 0.9616 - val_loss: 0.1000 - val_acc: 0.9705\n",
      "Epoch 10/20\n",
      "48000/48000 [==============================] - 10s 208us/step - loss: 0.1275 - acc: 0.9614 - val_loss: 0.0927 - val_acc: 0.9730\n",
      "Epoch 11/20\n",
      "48000/48000 [==============================] - 10s 207us/step - loss: 0.1322 - acc: 0.9603 - val_loss: 0.1026 - val_acc: 0.9692\n",
      "Epoch 12/20\n",
      "48000/48000 [==============================] - 10s 212us/step - loss: 0.1231 - acc: 0.9643 - val_loss: 0.1201 - val_acc: 0.9639\n",
      "Epoch 13/20\n",
      "48000/48000 [==============================] - 10s 210us/step - loss: 0.1188 - acc: 0.9651 - val_loss: 0.1065 - val_acc: 0.9706\n",
      "Epoch 14/20\n",
      "48000/48000 [==============================] - 10s 211us/step - loss: 0.1083 - acc: 0.9677 - val_loss: 0.0779 - val_acc: 0.9770\n",
      "Epoch 15/20\n",
      "48000/48000 [==============================] - 10s 210us/step - loss: 0.1188 - acc: 0.9652 - val_loss: 0.0981 - val_acc: 0.9720\n",
      "Epoch 16/20\n",
      "48000/48000 [==============================] - 10s 209us/step - loss: 0.1134 - acc: 0.9656 - val_loss: 0.0818 - val_acc: 0.9760\n",
      "Epoch 17/20\n",
      "48000/48000 [==============================] - 10s 209us/step - loss: 0.1152 - acc: 0.9661 - val_loss: 0.0776 - val_acc: 0.9778\n",
      "Epoch 18/20\n",
      "48000/48000 [==============================] - 10s 209us/step - loss: 0.1102 - acc: 0.9667 - val_loss: 0.0859 - val_acc: 0.9752\n",
      "Epoch 19/20\n",
      "48000/48000 [==============================] - 10s 208us/step - loss: 0.1090 - acc: 0.9679 - val_loss: 0.0855 - val_acc: 0.9764\n",
      "Epoch 20/20\n",
      "48000/48000 [==============================] - 10s 209us/step - loss: 0.1111 - acc: 0.9664 - val_loss: 0.0899 - val_acc: 0.9752\n"
     ]
    },
    {
     "data": {
      "text/plain": [
       "<keras.callbacks.History at 0x1a74e44dc50>"
      ]
     },
     "execution_count": 7,
     "metadata": {},
     "output_type": "execute_result"
    }
   ],
   "source": [
    "model.fit(xtrain,ytrain, epochs=20 , batch_size= 128, validation_split=.2 )"
   ]
  }
 ],
 "metadata": {
  "kernelspec": {
   "display_name": "Python 3",
   "language": "python",
   "name": "python3"
  },
  "language_info": {
   "codemirror_mode": {
    "name": "ipython",
    "version": 3
   },
   "file_extension": ".py",
   "mimetype": "text/x-python",
   "name": "python",
   "nbconvert_exporter": "python",
   "pygments_lexer": "ipython3",
   "version": "3.6.8"
  }
 },
 "nbformat": 4,
 "nbformat_minor": 2
}
