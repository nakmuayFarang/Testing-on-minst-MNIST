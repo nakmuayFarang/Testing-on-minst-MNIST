{
 "cells": [
  {
   "cell_type": "markdown",
   "metadata": {},
   "source": [
    "# Siamese Network\n",
    "\n",
    "- Example from keras: https://keras.io/examples/mnist_siamese/\n",
    "- Create a siamese neural network to reconnise hand written digits"
   ]
  },
  {
   "cell_type": "code",
   "execution_count": 1,
   "metadata": {},
   "outputs": [
    {
     "name": "stderr",
     "output_type": "stream",
     "text": [
      "Using TensorFlow backend.\n"
     ]
    }
   ],
   "source": [
    "from __future__ import absolute_import\n",
    "from __future__ import print_function\n",
    "import numpy as np\n",
    "\n",
    "import random\n",
    "from keras.datasets import mnist\n",
    "from keras.models import Model\n",
    "from keras.layers import Input, Flatten, Dense, Dropout, Lambda\n",
    "from keras.optimizers import RMSprop\n",
    "from keras import backend as K"
   ]
  },
  {
   "cell_type": "code",
   "execution_count": 2,
   "metadata": {},
   "outputs": [],
   "source": [
    "num_classes = 10\n",
    "epochs = 20"
   ]
  },
  {
   "cell_type": "markdown",
   "metadata": {},
   "source": [
    "## Data preprocessing"
   ]
  },
  {
   "cell_type": "code",
   "execution_count": 3,
   "metadata": {},
   "outputs": [],
   "source": [
    "def create_pairs(x, digit_indices):\n",
    "    '''Positive and negative pair creation.\n",
    "    Alternates between positive and negative pairs.\n",
    "    '''\n",
    "    pairs = []\n",
    "    labels = []\n",
    "    n = min([len(digit_indices[d]) for d in range(num_classes)]) - 1\n",
    "    for d in range(num_classes):\n",
    "        for i in range(n):\n",
    "            z1, z2 = digit_indices[d][i], digit_indices[d][i + 1]\n",
    "            pairs += [[x[z1], x[z2]]]\n",
    "            inc = random.randrange(1, num_classes)\n",
    "            dn = (d + inc) % num_classes\n",
    "            z1, z2 = digit_indices[d][i], digit_indices[dn][i]\n",
    "            pairs += [[x[z1], x[z2]]]\n",
    "            labels += [1, 0]\n",
    "    return np.array(pairs), np.array(labels)"
   ]
  },
  {
   "cell_type": "code",
   "execution_count": 4,
   "metadata": {},
   "outputs": [],
   "source": [
    "import matplotlib.pyplot as plt\n",
    "def viewMinst(mtr, mtr2):\n",
    "    \"\"\"view minst\"\"\"\n",
    "    mtr = mtr.reshape(28,28)\n",
    "    mtr2 = mtr2.reshape(28,28)\n",
    "    plt.imshow( np.concatenate((mtr,mtr2), axis=1 ) , cmap='gray')\n",
    "    plt.show()"
   ]
  },
  {
   "cell_type": "code",
   "execution_count": 5,
   "metadata": {},
   "outputs": [],
   "source": [
    "# the data, split between train and test sets\n",
    "(x_train, y_train), (x_test, y_test) = mnist.load_data()\n",
    "x_train = x_train.astype('float32')\n",
    "x_test = x_test.astype('float32')\n",
    "x_train /= 255\n",
    "x_test /= 255\n",
    "input_shape = x_train.shape[1:]"
   ]
  },
  {
   "cell_type": "code",
   "execution_count": 6,
   "metadata": {},
   "outputs": [],
   "source": [
    "# create training+test positive and negative pairs\n",
    "digit_indices = [np.where(y_train == i)[0] for i in range(num_classes)]\n",
    "tr_pairs, tr_y = create_pairs(x_train, digit_indices)\n",
    "\n",
    "digit_indices = [np.where(y_test == i)[0] for i in range(num_classes)]\n",
    "te_pairs, te_y = create_pairs(x_test, digit_indices)"
   ]
  },
  {
   "cell_type": "code",
   "execution_count": 7,
   "metadata": {},
   "outputs": [
    {
     "data": {
      "image/png": "[encoded data removed]",
      "text/plain": [
       "<Figure size 432x288 with 1 Axes>"
      ]
     },
     "metadata": {
      "needs_background": "light"
     },
     "output_type": "display_data"
    }
   ],
   "source": [
    "viewMinst(tr_pairs[0][0],tr_pairs[0][1])"
   ]
  },
  {
   "cell_type": "markdown",
   "metadata": {},
   "source": [
    "Case where $y = 1$"
   ]
  },
  {
   "cell_type": "code",
   "execution_count": 8,
   "metadata": {},
   "outputs": [
    {
     "data": {
      "image/png": "[encoded data removed]",
      "text/plain": [
       "<Figure size 432x288 with 1 Axes>"
      ]
     },
     "metadata": {
      "needs_background": "light"
     },
     "output_type": "display_data"
    }
   ],
   "source": [
    "viewMinst(tr_pairs[1][0],tr_pairs[1][1])"
   ]
  },
  {
   "cell_type": "markdown",
   "metadata": {},
   "source": [
    "Case where $y = 0$"
   ]
  },
  {
   "cell_type": "markdown",
   "metadata": {},
   "source": [
    "## Siamese network Model"
   ]
  },
  {
   "cell_type": "markdown",
   "metadata": {},
   "source": [
    "### Evaluation metric"
   ]
  },
  {
   "cell_type": "code",
   "execution_count": 9,
   "metadata": {},
   "outputs": [],
   "source": [
    "def euclidean_distance(vects):\n",
    "    x, y = vects\n",
    "    sum_square = K.sum(K.square(x - y), axis=1, keepdims=True)\n",
    "    return K.sqrt(K.maximum(sum_square, K.epsilon()))"
   ]
  },
  {
   "cell_type": "markdown",
   "metadata": {},
   "source": [
    "$$euclidean\\_distance:   x, y \\longrightarrow  \\sum_{i \\in I}  (x_{i} - y_{i} )^2  $$"
   ]
  },
  {
   "cell_type": "code",
   "execution_count": 10,
   "metadata": {},
   "outputs": [],
   "source": [
    "def eucl_dist_output_shape(shapes):\n",
    "    \"\"\"Return the shape the first element of shape contener in a tuple (shape,1)\n",
    "    \"\"\"\n",
    "    shape1, shape2 = shapes\n",
    "    return (shape1[0], 1)"
   ]
  },
  {
   "cell_type": "code",
   "execution_count": 11,
   "metadata": {},
   "outputs": [],
   "source": [
    "def accuracy(y_true, y_pred):\n",
    "    '''Compute classification accuracy with a fixed threshold on distances.\n",
    "    '''\n",
    "    return K.mean(K.equal(y_true, K.cast(y_pred < 0.5, y_true.dtype)))"
   ]
  },
  {
   "cell_type": "markdown",
   "metadata": {},
   "source": [
    "- Ratio of correct prediction"
   ]
  },
  {
   "cell_type": "code",
   "execution_count": 12,
   "metadata": {},
   "outputs": [],
   "source": [
    "def compute_accuracy(y_true, y_pred):\n",
    "    '''Compute classification accuracy with a fixed threshold on distances.\n",
    "    '''\n",
    "    pred = y_pred.ravel() < 0.5\n",
    "    return np.mean(pred == y_true)"
   ]
  },
  {
   "cell_type": "code",
   "execution_count": 13,
   "metadata": {},
   "outputs": [],
   "source": [
    "def contrastive_loss(y_true, y_pred):\n",
    "    '''Contrastive loss from Hadsell-et-al.'06\n",
    "    http://yann.lecun.com/exdb/publis/pdf/hadsell-chopra-lecun-06.pdf\n",
    "    '''\n",
    "    margin = 1\n",
    "    sqaure_pred = K.square(y_pred)\n",
    "    margin_square = K.square(K.maximum(margin - y_pred, 0))\n",
    "    return K.mean(y_true * sqaure_pred + (1 - y_true) * margin_square)"
   ]
  },
  {
   "cell_type": "markdown",
   "metadata": {},
   "source": [
    "### Model creation"
   ]
  },
  {
   "cell_type": "code",
   "execution_count": 14,
   "metadata": {},
   "outputs": [],
   "source": [
    "def create_base_network(input_shape):\n",
    "    '''Base network to be shared (eq. to feature extraction).\n",
    "    '''\n",
    "    input = Input(shape=input_shape)\n",
    "    x = Flatten()(input)\n",
    "    x = Dense(128, activation='relu')(x)\n",
    "    x = Dropout(0.1)(x)\n",
    "    x = Dense(128, activation='relu')(x)\n",
    "    x = Dropout(0.1)(x)\n",
    "    x = Dense(128, activation='relu')(x)\n",
    "    return Model(input, x)"
   ]
  },
  {
   "cell_type": "code",
   "execution_count": 15,
   "metadata": {},
   "outputs": [],
   "source": [
    "# network definition\n",
    "base_network = create_base_network(input_shape)\n",
    "\n",
    "input_a = Input(shape=input_shape)\n",
    "input_b = Input(shape=input_shape)\n",
    "\n",
    "# because we re-use the same instance `base_network`,\n",
    "# the weights of the network\n",
    "# will be shared across the two branches\n",
    "processed_a = base_network(input_a)\n",
    "processed_b = base_network(input_b)\n",
    "\n",
    "distance = Lambda(euclidean_distance,\n",
    "                  output_shape=eucl_dist_output_shape)([processed_a, processed_b])\n",
    "\n",
    "model = Model([input_a, input_b], distance)\n"
   ]
  },
  {
   "cell_type": "code",
   "execution_count": 16,
   "metadata": {},
   "outputs": [
    {
     "name": "stdout",
     "output_type": "stream",
     "text": [
      "Train on 108400 samples, validate on 17820 samples\n",
      "Epoch 1/20\n",
      "108400/108400 [==============================] - 6s 57us/step - loss: 0.0988 - accuracy: 0.8818 - val_loss: 0.0440 - val_accuracy: 0.9555\n",
      "Epoch 2/20\n",
      "108400/108400 [==============================] - 4s 35us/step - loss: 0.0407 - accuracy: 0.9595 - val_loss: 0.0302 - val_accuracy: 0.9700\n",
      "Epoch 3/20\n",
      "108400/108400 [==============================] - 4s 35us/step - loss: 0.0277 - accuracy: 0.9724 - val_loss: 0.0261 - val_accuracy: 0.9727\n",
      "Epoch 4/20\n",
      "108400/108400 [==============================] - 4s 36us/step - loss: 0.0222 - accuracy: 0.9773 - val_loss: 0.0246 - val_accuracy: 0.9735\n",
      "Epoch 5/20\n",
      "108400/108400 [==============================] - 4s 35us/step - loss: 0.0187 - accuracy: 0.9811 - val_loss: 0.0242 - val_accuracy: 0.9726\n",
      "Epoch 6/20\n",
      "108400/108400 [==============================] - 4s 35us/step - loss: 0.0165 - accuracy: 0.9830 - val_loss: 0.0239 - val_accuracy: 0.9721\n",
      "Epoch 7/20\n",
      "108400/108400 [==============================] - 4s 35us/step - loss: 0.0150 - accuracy: 0.9846 - val_loss: 0.0240 - val_accuracy: 0.9733\n",
      "Epoch 8/20\n",
      "108400/108400 [==============================] - 4s 36us/step - loss: 0.0135 - accuracy: 0.9861 - val_loss: 0.0224 - val_accuracy: 0.9733\n",
      "Epoch 9/20\n",
      "108400/108400 [==============================] - 4s 35us/step - loss: 0.0122 - accuracy: 0.9873 - val_loss: 0.0212 - val_accuracy: 0.9746\n",
      "Epoch 10/20\n",
      "108400/108400 [==============================] - 4s 35us/step - loss: 0.0113 - accuracy: 0.9880 - val_loss: 0.0234 - val_accuracy: 0.9727\n",
      "Epoch 11/20\n",
      "108400/108400 [==============================] - 4s 35us/step - loss: 0.0111 - accuracy: 0.9882 - val_loss: 0.0227 - val_accuracy: 0.9727\n",
      "Epoch 12/20\n",
      "108400/108400 [==============================] - 4s 35us/step - loss: 0.0105 - accuracy: 0.9889 - val_loss: 0.0226 - val_accuracy: 0.9731\n",
      "Epoch 13/20\n",
      "108400/108400 [==============================] - 4s 35us/step - loss: 0.0098 - accuracy: 0.9896 - val_loss: 0.0246 - val_accuracy: 0.9710\n",
      "Epoch 14/20\n",
      "108400/108400 [==============================] - 4s 38us/step - loss: 0.0094 - accuracy: 0.9899 - val_loss: 0.0229 - val_accuracy: 0.9729\n",
      "Epoch 15/20\n",
      "108400/108400 [==============================] - 5s 43us/step - loss: 0.0089 - accuracy: 0.9906 - val_loss: 0.0227 - val_accuracy: 0.9744\n",
      "Epoch 16/20\n",
      "108400/108400 [==============================] - 5s 42us/step - loss: 0.0089 - accuracy: 0.9904 - val_loss: 0.0242 - val_accuracy: 0.9723\n",
      "Epoch 17/20\n",
      "108400/108400 [==============================] - 5s 42us/step - loss: 0.0084 - accuracy: 0.9909 - val_loss: 0.0230 - val_accuracy: 0.9724\n",
      "Epoch 18/20\n",
      "108400/108400 [==============================] - 5s 43us/step - loss: 0.0082 - accuracy: 0.9914 - val_loss: 0.0241 - val_accuracy: 0.9723\n",
      "Epoch 19/20\n",
      "108400/108400 [==============================] - 5s 42us/step - loss: 0.0081 - accuracy: 0.9912 - val_loss: 0.0237 - val_accuracy: 0.9721\n",
      "Epoch 20/20\n",
      "108400/108400 [==============================] - 5s 42us/step - loss: 0.0079 - accuracy: 0.9915 - val_loss: 0.0241 - val_accuracy: 0.9730\n"
     ]
    },
    {
     "data": {
      "text/plain": [
       "<keras.callbacks.History at 0x2389d1c8b38>"
      ]
     },
     "execution_count": 16,
     "metadata": {},
     "output_type": "execute_result"
    }
   ],
   "source": [
    "# train\n",
    "rms = RMSprop()\n",
    "model.compile(loss=contrastive_loss, optimizer=rms, metrics=[accuracy])\n",
    "model.fit([tr_pairs[:, 0], tr_pairs[:, 1]], tr_y,\n",
    "          batch_size=128,\n",
    "          epochs=epochs,\n",
    "          validation_data=([te_pairs[:, 0], te_pairs[:, 1]], te_y))"
   ]
  },
  {
   "cell_type": "code",
   "execution_count": 17,
   "metadata": {},
   "outputs": [
    {
     "name": "stdout",
     "output_type": "stream",
     "text": [
      "* Accuracy on training set: 99.67%\n",
      "* Accuracy on test set: 97.30%\n"
     ]
    }
   ],
   "source": [
    "# compute final accuracy on training and test sets\n",
    "y_pred = model.predict([tr_pairs[:, 0], tr_pairs[:, 1]])\n",
    "tr_acc = compute_accuracy(tr_y, y_pred)\n",
    "y_pred = model.predict([te_pairs[:, 0], te_pairs[:, 1]])\n",
    "te_acc = compute_accuracy(te_y, y_pred)\n",
    "\n",
    "print('* Accuracy on training set: %0.2f%%' % (100 * tr_acc))\n",
    "print('* Accuracy on test set: %0.2f%%' % (100 * te_acc))"
   ]
  }
 ],
 "metadata": {
  "kernelspec": {
   "display_name": "Python 3",
   "language": "python",
   "name": "python3"
  },
  "language_info": {
   "codemirror_mode": {
    "name": "ipython",
    "version": 3
   },
   "file_extension": ".py",
   "mimetype": "text/x-python",
   "name": "python",
   "nbconvert_exporter": "python",
   "pygments_lexer": "ipython3",
   "version": "3.6.8"
  }
 },
 "nbformat": 4,
 "nbformat_minor": 2
}
