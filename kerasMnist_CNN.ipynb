{
 "cells": [
  {
   "cell_type": "code",
   "execution_count": 1,
   "metadata": {},
   "outputs": [
    {
     "name": "stderr",
     "output_type": "stream",
     "text": [
      "Using TensorFlow backend.\n"
     ]
    }
   ],
   "source": [
    "import keras\n",
    "from keras.layers import Activation, Conv2D, MaxPooling2D, Dense, Flatten, Dropout\n",
    "from keras.utils import plot_model, to_categorical\n",
    "from keras.models import Sequential\n",
    "from keras.datasets import mnist\n",
    "import numpy as np"
   ]
  },
  {
   "cell_type": "code",
   "execution_count": 2,
   "metadata": {},
   "outputs": [],
   "source": [
    "(xtrain,ytrain),(xtest, ytest) = mnist.load_data()"
   ]
  },
  {
   "cell_type": "code",
   "execution_count": 3,
   "metadata": {},
   "outputs": [],
   "source": [
    "#formatage des datas\n",
    "ytest2 = to_categorical(ytest)\n",
    "ytrain2 = to_categorical(ytrain)\n",
    "\n",
    "xtrain = np.reshape(xtrain, [-1,28,28,1] )\n",
    "xtest = np.reshape(xtest, [-1,28,28,1] )\n",
    "\n",
    "xtrain = xtrain.astype('float32')/255\n",
    "xtest = xtest.astype('float32')/255"
   ]
  },
  {
   "cell_type": "code",
   "execution_count": 4,
   "metadata": {},
   "outputs": [],
   "source": [
    "model = Sequential()\n",
    "model.add( Conv2D(filters = 64, kernel_size = 3 , activation = 'relu', input_shape= [28,28,1]  ) )\n",
    "model.add( MaxPooling2D(2) )\n",
    "model.add( Conv2D( filters = 64, kernel_size = 3, activation = 'relu' ) )\n",
    "model.add( MaxPooling2D(2) )\n",
    "model.add( Conv2D( filters = 64, kernel_size = 3, activation = 'relu' ) )\n",
    "model.add( MaxPooling2D(2) )\n",
    "model.add( Flatten() )\n",
    "model.add( Dropout(0.2) )\n",
    "model.add( Dense(10) )\n",
    "model.add( Activation('softmax') )\n"
   ]
  },
  {
   "cell_type": "code",
   "execution_count": 5,
   "metadata": {},
   "outputs": [
    {
     "name": "stdout",
     "output_type": "stream",
     "text": [
      "_________________________________________________________________\n",
      "Layer (type)                 Output Shape              Param #   \n",
      "=================================================================\n",
      "conv2d_1 (Conv2D)            (None, 26, 26, 64)        640       \n",
      "_________________________________________________________________\n",
      "max_pooling2d_1 (MaxPooling2 (None, 13, 13, 64)        0         \n",
      "_________________________________________________________________\n",
      "conv2d_2 (Conv2D)            (None, 11, 11, 64)        36928     \n",
      "_________________________________________________________________\n",
      "max_pooling2d_2 (MaxPooling2 (None, 5, 5, 64)          0         \n",
      "_________________________________________________________________\n",
      "conv2d_3 (Conv2D)            (None, 3, 3, 64)          36928     \n",
      "_________________________________________________________________\n",
      "max_pooling2d_3 (MaxPooling2 (None, 1, 1, 64)          0         \n",
      "_________________________________________________________________\n",
      "flatten_1 (Flatten)          (None, 64)                0         \n",
      "_________________________________________________________________\n",
      "dropout_1 (Dropout)          (None, 64)                0         \n",
      "_________________________________________________________________\n",
      "dense_1 (Dense)              (None, 10)                650       \n",
      "_________________________________________________________________\n",
      "activation_1 (Activation)    (None, 10)                0         \n",
      "=================================================================\n",
      "Total params: 75,146\n",
      "Trainable params: 75,146\n",
      "Non-trainable params: 0\n",
      "_________________________________________________________________\n"
     ]
    }
   ],
   "source": [
    "model.summary()"
   ]
  },
  {
   "cell_type": "code",
   "execution_count": 6,
   "metadata": {},
   "outputs": [],
   "source": [
    "plot_model(model,to_file='cnn-mnist.png', show_shapes=True)"
   ]
  },
  {
   "cell_type": "code",
   "execution_count": 7,
   "metadata": {},
   "outputs": [],
   "source": [
    "model.compile( loss='categorical_crossentropy', optimizer='adam', metrics=['accuracy']  )"
   ]
  },
  {
   "cell_type": "code",
   "execution_count": 9,
   "metadata": {},
   "outputs": [
    {
     "name": "stdout",
     "output_type": "stream",
     "text": [
      "Train on 48000 samples, validate on 12000 samples\n",
      "Epoch 1/20\n",
      "48000/48000 [==============================] - 10s 217us/step - loss: 0.0212 - acc: 0.9932 - val_loss: 0.0095 - val_acc: 0.9975\n",
      "Epoch 2/20\n",
      "48000/48000 [==============================] - 16s 338us/step - loss: 0.0173 - acc: 0.9939 - val_loss: 0.0162 - val_acc: 0.9945\n",
      "Epoch 3/20\n",
      "48000/48000 [==============================] - 10s 210us/step - loss: 0.0157 - acc: 0.9948 - val_loss: 0.0123 - val_acc: 0.9967\n",
      "Epoch 4/20\n",
      "48000/48000 [==============================] - 5s 112us/step - loss: 0.0158 - acc: 0.9945 - val_loss: 0.0130 - val_acc: 0.9958\n",
      "Epoch 5/20\n",
      "48000/48000 [==============================] - 5s 111us/step - loss: 0.0152 - acc: 0.9946 - val_loss: 0.0160 - val_acc: 0.9957\n",
      "Epoch 6/20\n",
      "48000/48000 [==============================] - 5s 111us/step - loss: 0.0144 - acc: 0.9950 - val_loss: 0.0163 - val_acc: 0.9951\n",
      "Epoch 7/20\n",
      "48000/48000 [==============================] - 5s 111us/step - loss: 0.0140 - acc: 0.9955 - val_loss: 0.0161 - val_acc: 0.9955\n",
      "Epoch 8/20\n",
      "48000/48000 [==============================] - 5s 112us/step - loss: 0.0129 - acc: 0.9954 - val_loss: 0.0148 - val_acc: 0.9959\n",
      "Epoch 9/20\n",
      "48000/48000 [==============================] - 5s 111us/step - loss: 0.0134 - acc: 0.9954 - val_loss: 0.0172 - val_acc: 0.9957\n",
      "Epoch 10/20\n",
      "48000/48000 [==============================] - 5s 110us/step - loss: 0.0116 - acc: 0.9958 - val_loss: 0.0137 - val_acc: 0.9960\n",
      "Epoch 11/20\n",
      "48000/48000 [==============================] - 5s 111us/step - loss: 0.0122 - acc: 0.9956 - val_loss: 0.0204 - val_acc: 0.9942\n",
      "Epoch 12/20\n",
      "48000/48000 [==============================] - 6s 115us/step - loss: 0.0103 - acc: 0.9963 - val_loss: 0.0149 - val_acc: 0.9957\n",
      "Epoch 13/20\n",
      "48000/48000 [==============================] - 5s 112us/step - loss: 0.0115 - acc: 0.9960 - val_loss: 0.0194 - val_acc: 0.9939\n",
      "Epoch 14/20\n",
      "48000/48000 [==============================] - 5s 112us/step - loss: 0.0108 - acc: 0.9964 - val_loss: 0.0247 - val_acc: 0.9926\n",
      "Epoch 15/20\n",
      "48000/48000 [==============================] - 5s 114us/step - loss: 0.0101 - acc: 0.9964 - val_loss: 0.0233 - val_acc: 0.9942\n",
      "Epoch 16/20\n",
      "48000/48000 [==============================] - 5s 112us/step - loss: 0.0099 - acc: 0.9966 - val_loss: 0.0211 - val_acc: 0.9944\n",
      "Epoch 17/20\n",
      "48000/48000 [==============================] - 5s 111us/step - loss: 0.0095 - acc: 0.9969 - val_loss: 0.0243 - val_acc: 0.9933\n",
      "Epoch 18/20\n",
      "48000/48000 [==============================] - 5s 111us/step - loss: 0.0090 - acc: 0.9970 - val_loss: 0.0299 - val_acc: 0.9931\n",
      "Epoch 19/20\n",
      "48000/48000 [==============================] - 5s 111us/step - loss: 0.0080 - acc: 0.9972 - val_loss: 0.0211 - val_acc: 0.9949\n",
      "Epoch 20/20\n",
      "48000/48000 [==============================] - 5s 113us/step - loss: 0.0103 - acc: 0.9966 - val_loss: 0.0229 - val_acc: 0.9937\n"
     ]
    },
    {
     "data": {
      "text/plain": [
       "<keras.callbacks.History at 0x1ee0d5f7940>"
      ]
     },
     "execution_count": 9,
     "metadata": {},
     "output_type": "execute_result"
    }
   ],
   "source": [
    "model.fit(xtrain,ytrain2, epochs=20 , batch_size= 128, validation_split=0.2 )"
   ]
  },
  {
   "cell_type": "code",
   "execution_count": 10,
   "metadata": {},
   "outputs": [],
   "source": [
    "#Prediction\n",
    "ytestPred =  model.predict_classes(xtest)"
   ]
  },
  {
   "cell_type": "code",
   "execution_count": 15,
   "metadata": {},
   "outputs": [],
   "source": [
    "import matplotlib.pyplot as plt\n",
    "def viewMinst(mtr,lbl,pred):\n",
    "    \"\"\"view minst\"\"\"\n",
    "    plt.title('Value : {}, Predict : {}'.format(lbl, pred))\n",
    "    plt.imshow(mtr.reshape(28,28), cmap='gray')\n",
    "    plt.show()"
   ]
  },
  {
   "cell_type": "code",
   "execution_count": 12,
   "metadata": {},
   "outputs": [
    {
     "data": {
      "text/plain": [
       "(array([  62,  321,  445,  449,  582,  659,  716,  726,  804,  938,  947,\n",
       "        1014, 1112, 1182, 1226, 1232, 1242, 1247, 1256, 1260, 1299, 1328,\n",
       "        1393, 1444, 1581, 1621, 1681, 1737, 1790, 1878, 1940, 1941, 1987,\n",
       "        2018, 2023, 2035, 2044, 2070, 2118, 2129, 2130, 2135, 2189, 2329,\n",
       "        2406, 2414, 2433, 2454, 2462, 2496, 2597, 2607, 2654, 2771, 2927,\n",
       "        2953, 2995, 3030, 3055, 3267, 3288, 3384, 3422, 3457, 3520, 3726,\n",
       "        3762, 3767, 3778, 3853, 3906, 3939, 4017, 4027, 4065, 4078, 4176,\n",
       "        4201, 4248, 4289, 4360, 4477, 4487, 4497, 4507, 4536, 4571, 4723,\n",
       "        4740, 4761, 4823, 4837, 4838, 4861, 4880, 4966, 5268, 5457, 5634,\n",
       "        5655, 5888, 5937, 5955, 6091, 6173, 6557, 6558, 6560, 6571, 6576,\n",
       "        6597, 6625, 6651, 6783, 6796, 7233, 7235, 8128, 8382, 8527, 9009,\n",
       "        9024, 9599, 9620, 9634, 9642, 9664, 9692, 9710, 9729, 9770, 9792,\n",
       "        9839, 9922], dtype=int64),)"
      ]
     },
     "execution_count": 12,
     "metadata": {},
     "output_type": "execute_result"
    }
   ],
   "source": [
    "#Get wrong prediction index \n",
    "neq = ytest == ytestPred\n",
    "neq = np.where(neq==False)\n",
    "neq"
   ]
  },
  {
   "cell_type": "code",
   "execution_count": 16,
   "metadata": {},
   "outputs": [
    {
     "data": {
      "image/png": "[encoded data removed]",
      "text/plain": [
       "<Figure size 432x288 with 1 Axes>"
      ]
     },
     "metadata": {
      "needs_background": "light"
     },
     "output_type": "display_data"
    }
   ],
   "source": [
    "viewMinst(xtest[62],ytest[62],ytestPred[62])"
   ]
  },
  {
   "cell_type": "code",
   "execution_count": null,
   "metadata": {},
   "outputs": [],
   "source": []
  }
 ],
 "metadata": {
  "kernelspec": {
   "display_name": "Python 3",
   "language": "python",
   "name": "python3"
  },
  "language_info": {
   "codemirror_mode": {
    "name": "ipython",
    "version": 3
   },
   "file_extension": ".py",
   "mimetype": "text/x-python",
   "name": "python",
   "nbconvert_exporter": "python",
   "pygments_lexer": "ipython3",
   "version": "3.6.8"
  }
 },
 "nbformat": 4,
 "nbformat_minor": 2
}
